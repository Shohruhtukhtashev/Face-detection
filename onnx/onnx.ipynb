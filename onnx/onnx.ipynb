{
 "cells": [
  {
   "cell_type": "code",
   "execution_count": 1,
   "id": "1225d726-3b21-4a76-be37-cada57f121c0",
   "metadata": {
    "tags": []
   },
   "outputs": [],
   "source": [
    "import matplotlib.pyplot as plt\n",
    "import onnxruntime as ort\n",
    "import numpy as np\n",
    "import cv2\n",
    "\n",
    "from letterbox import letterbox"
   ]
  },
  {
   "cell_type": "code",
   "execution_count": 2,
   "id": "604daba3-1a14-4095-8fbf-9edcdd5a0182",
   "metadata": {},
   "outputs": [],
   "source": [
    "model_path = \"best.onnx\"\n",
    "\n",
    "session = ort.SessionOptions()\n",
    "session = ort.InferenceSession(model_path, providers=['CPUExecutionProvider','CUDAExecutionProvider'])\n",
    "\n",
    "input_name = session.get_inputs()[0].name\n",
    "output_name = session.get_outputs()[0].name"
   ]
  },
  {
   "cell_type": "code",
   "execution_count": 6,
   "id": "37d5dbf5-3386-4dfd-b3eb-1d74d6bfe28b",
   "metadata": {
    "tags": []
   },
   "outputs": [
    {
     "name": "stdout",
     "output_type": "stream",
     "text": [
      "(5, 8400)\n"
     ]
    }
   ],
   "source": [
    "image_path = '900x450.jpg'\n",
    "real_img = cv2.imread(image_path)\n",
    "image, ratio, dwdh = letterbox(real_img, auto=False)\n",
    "\n",
    "image = image.transpose(2,0,1) / 255.\n",
    "image = image[np.newaxis, :, :, :].astype(np.float32)\n",
    "\n",
    "output_data = session.run([output_name], {input_name: image})[0][0]\n",
    "print(output_data.shape)"
   ]
  },
  {
   "cell_type": "code",
   "execution_count": 7,
   "id": "bfa97403-5547-4aa2-9b47-f17265218ddc",
   "metadata": {
    "tags": []
   },
   "outputs": [
    {
     "name": "stdout",
     "output_type": "stream",
     "text": [
      "(250, 5)\n"
     ]
    }
   ],
   "source": [
    "output_data = output_data[:,output_data[4]>0.1].T\n",
    "output_data = output_data[output_data[:, 1].argsort()]\n",
    "output_data = output_data[output_data[:, 0].argsort()]\n",
    "print(output_data.shape)"
   ]
  },
  {
   "cell_type": "code",
   "execution_count": null,
   "id": "065c3d85-9c6e-4a67-b37a-1e783fe7b566",
   "metadata": {
    "tags": []
   },
   "outputs": [],
   "source": [
    "thresh = 0.5\n",
    "\n",
    "for (x0, y0, x1, y1, scores) in output_data[output_data.shape[0]%10::10]:\n",
    "    if scores > thresh-1:\n",
    "        x0 -= dwdh[0]\n",
    "        y0 -= dwdh[1]\n",
    "        box = np.array([x0-x1/2, y0-y1/2, x0+x1/2, y0+y1/2])\n",
    "        box /= ratio\n",
    "        box = np.round(box).astype(np.int32).tolist()\n",
    "\n",
    "        score = round(float(scores), 2)\n",
    "        print(box, score)\n",
    "\n",
    "        cv2.rectangle(real_img, box[:2], box[2:], (0,255,0), 2)\n",
    "        cv2.putText(real_img, str(score), (box[0], box[1] - 7), cv2.FONT_HERSHEY_SIMPLEX, 0.75, [0, 255, 255], thickness=2)\n",
    "            \n",
    "plt.imshow(cv2.cvtColor(real_img, cv2.COLOR_BGR2RGB))\n",
    "plt.show()"
   ]
  },
  {
   "cell_type": "markdown",
   "id": "ad475267-8664-4bae-89cc-a9ae76a919e7",
   "metadata": {},
   "source": [
    "Saidislomga rahmat!"
   ]
  },
  {
   "cell_type": "code",
   "execution_count": 9,
   "id": "85e2ed43-ed34-4d5e-a3da-6dc4e16d52ee",
   "metadata": {},
   "outputs": [],
   "source": [
    "cap = cv2.VideoCapture(0)\n",
    "\n",
    "if (cap.isOpened()== False):\n",
    "    print(\"Error opening video file\")\n",
    "\n",
    "thresh = 0.3\n",
    "\n",
    "while(cap.isOpened()):\n",
    "    ret, frame = cap.read()\n",
    "    if ret==True:\n",
    "        image, ratio, dwdh = letterbox(frame, auto=False)\n",
    "        \n",
    "        image = image.transpose(2,0,1) / 255.\n",
    "        image = image[np.newaxis, :, :, :].astype(np.float32)\n",
    "        output_data = session.run([output_name], {input_name: image})[0][0]\n",
    "        output_data = output_data[:,output_data[4]>0.1].T\n",
    "        output_data = output_data[output_data[:, 1].argsort()]\n",
    "        output_data = output_data[output_data[:, 0].argsort()]\n",
    "\n",
    "        for (x0, y0, x1, y1, scores) in output_data[output_data.shape[0]%10::10]:\n",
    "            if scores > thresh:\n",
    "                x0 -= dwdh[0]\n",
    "                y0 -= dwdh[1]\n",
    "                box = np.array([x0-x1/2, y0-y1/2, x0+x1/2, y0+y1/2])\n",
    "                box /= ratio\n",
    "                box = np.round(box).astype(np.int32).tolist()\n",
    "\n",
    "                score = round(float(scores), 2)\n",
    "\n",
    "                cv2.rectangle(frame, box[:2], box[2:], (0,255,0), 2)\n",
    "                cv2.putText(frame, str(score), (box[0], box[1] - 7), cv2.FONT_HERSHEY_SIMPLEX, 0.75, [0, 255, 255], thickness=2)\n",
    "        \n",
    "        cv2.imshow('Frame', frame)\n",
    "        \n",
    "        if cv2.waitKey(25) & 0xFF == ord('q'):\n",
    "            break\n",
    "\n",
    "cap.release()\n",
    "cv2.destroyAllWindows()"
   ]
  }
 ],
 "metadata": {
  "kernelspec": {
   "display_name": "Python 3 (ipykernel)",
   "language": "python",
   "name": "python3"
  },
  "language_info": {
   "codemirror_mode": {
    "name": "ipython",
    "version": 3
   },
   "file_extension": ".py",
   "mimetype": "text/x-python",
   "name": "python",
   "nbconvert_exporter": "python",
   "pygments_lexer": "ipython3",
   "version": "3.9.2"
  }
 },
 "nbformat": 4,
 "nbformat_minor": 5
}
