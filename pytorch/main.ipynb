{
 "cells": [
  {
   "cell_type": "code",
   "execution_count": 2,
   "id": "d3f2e5b5-3658-494b-a992-c776c5cb81ca",
   "metadata": {},
   "outputs": [],
   "source": [
    "from ultralytics import YOLO\n",
    "import cv2\n",
    "import torch\n",
    "import math"
   ]
  },
  {
   "cell_type": "code",
   "execution_count": 3,
   "id": "912c71ef-b4be-4ff6-a0c9-05f5b59d58ce",
   "metadata": {},
   "outputs": [],
   "source": [
    "model = YOLO(r\"best.pt\")"
   ]
  },
  {
   "cell_type": "code",
   "execution_count": 4,
   "id": "667fd11a-1841-4f7c-970e-0c00b25f3596",
   "metadata": {},
   "outputs": [
    {
     "data": {
      "text/plain": [
       "device(type='cpu')"
      ]
     },
     "execution_count": 4,
     "metadata": {},
     "output_type": "execute_result"
    }
   ],
   "source": [
    "device = torch.device('cuda:0' if torch.cuda.is_available() else 'cpu')\n",
    "device"
   ]
  },
  {
   "cell_type": "code",
   "execution_count": 7,
   "id": "a141a2e0-8083-49b7-8bac-c9a37ff45a39",
   "metadata": {},
   "outputs": [
    {
     "name": "stderr",
     "output_type": "stream",
     "text": [
      "\n",
      "0: 480x640 1 face, 226.1ms\n",
      "Speed: 4.0ms preprocess, 226.1ms inference, 1.0ms postprocess per image at shape (1, 3, 480, 640)\n",
      "\n"
     ]
    },
    {
     "name": "stdout",
     "output_type": "stream",
     "text": [
      "[269 236 416 444]\n",
      "Confidence ---> 0.81\n"
     ]
    },
    {
     "name": "stderr",
     "output_type": "stream",
     "text": [
      "0: 480x640 1 face, 221.4ms\n",
      "Speed: 2.0ms preprocess, 221.4ms inference, 0.0ms postprocess per image at shape (1, 3, 480, 640)\n",
      "\n"
     ]
    },
    {
     "name": "stdout",
     "output_type": "stream",
     "text": [
      "[269 235 415 447]\n",
      "Confidence ---> 0.81\n"
     ]
    },
    {
     "name": "stderr",
     "output_type": "stream",
     "text": [
      "0: 480x640 1 face, 231.1ms\n",
      "Speed: 0.0ms preprocess, 231.1ms inference, 1.0ms postprocess per image at shape (1, 3, 480, 640)\n",
      "\n"
     ]
    },
    {
     "name": "stdout",
     "output_type": "stream",
     "text": [
      "[268 235 414 445]\n",
      "Confidence ---> 0.83\n"
     ]
    },
    {
     "name": "stderr",
     "output_type": "stream",
     "text": [
      "0: 480x640 1 face, 222.1ms\n",
      "Speed: 0.0ms preprocess, 222.1ms inference, 0.0ms postprocess per image at shape (1, 3, 480, 640)\n",
      "\n"
     ]
    },
    {
     "name": "stdout",
     "output_type": "stream",
     "text": [
      "[267 236 413 444]\n",
      "Confidence ---> 0.81\n"
     ]
    },
    {
     "name": "stderr",
     "output_type": "stream",
     "text": [
      "0: 480x640 1 face, 224.2ms\n",
      "Speed: 0.0ms preprocess, 224.2ms inference, 1.0ms postprocess per image at shape (1, 3, 480, 640)\n",
      "\n"
     ]
    },
    {
     "name": "stdout",
     "output_type": "stream",
     "text": [
      "[268 238 416 445]\n",
      "Confidence ---> 0.78\n"
     ]
    },
    {
     "name": "stderr",
     "output_type": "stream",
     "text": [
      "0: 480x640 1 face, 202.1ms\n",
      "Speed: 3.0ms preprocess, 202.1ms inference, 0.0ms postprocess per image at shape (1, 3, 480, 640)\n",
      "\n"
     ]
    },
    {
     "name": "stdout",
     "output_type": "stream",
     "text": [
      "[269 236 417 454]\n",
      "Confidence ---> 0.81\n"
     ]
    },
    {
     "name": "stderr",
     "output_type": "stream",
     "text": [
      "0: 480x640 1 face, 229.2ms\n",
      "Speed: 0.0ms preprocess, 229.2ms inference, 0.0ms postprocess per image at shape (1, 3, 480, 640)\n",
      "\n"
     ]
    },
    {
     "name": "stdout",
     "output_type": "stream",
     "text": [
      "[274 229 430 449]\n",
      "Confidence ---> 0.77\n"
     ]
    },
    {
     "name": "stderr",
     "output_type": "stream",
     "text": [
      "0: 480x640 1 face, 271.1ms\n",
      "Speed: 5.6ms preprocess, 271.1ms inference, 0.0ms postprocess per image at shape (1, 3, 480, 640)\n",
      "\n"
     ]
    },
    {
     "name": "stdout",
     "output_type": "stream",
     "text": [
      "[277 230 436 455]\n",
      "Confidence ---> 0.81\n"
     ]
    },
    {
     "name": "stderr",
     "output_type": "stream",
     "text": [
      "0: 480x640 1 face, 258.9ms\n",
      "Speed: 2.0ms preprocess, 258.9ms inference, 0.0ms postprocess per image at shape (1, 3, 480, 640)\n",
      "\n"
     ]
    },
    {
     "name": "stdout",
     "output_type": "stream",
     "text": [
      "[280 221 441 445]\n",
      "Confidence ---> 0.8\n"
     ]
    },
    {
     "name": "stderr",
     "output_type": "stream",
     "text": [
      "0: 480x640 1 face, 271.0ms\n",
      "Speed: 0.0ms preprocess, 271.0ms inference, 0.0ms postprocess per image at shape (1, 3, 480, 640)\n",
      "\n"
     ]
    },
    {
     "name": "stdout",
     "output_type": "stream",
     "text": [
      "[277 228 439 451]\n",
      "Confidence ---> 0.76\n"
     ]
    },
    {
     "name": "stderr",
     "output_type": "stream",
     "text": [
      "0: 480x640 1 face, 279.8ms\n",
      "Speed: 0.0ms preprocess, 279.8ms inference, 0.0ms postprocess per image at shape (1, 3, 480, 640)\n",
      "\n"
     ]
    },
    {
     "name": "stdout",
     "output_type": "stream",
     "text": [
      "[276 224 434 444]\n",
      "Confidence ---> 0.76\n"
     ]
    },
    {
     "name": "stderr",
     "output_type": "stream",
     "text": [
      "0: 480x640 1 face, 263.3ms\n",
      "Speed: 0.0ms preprocess, 263.3ms inference, 0.0ms postprocess per image at shape (1, 3, 480, 640)\n",
      "\n"
     ]
    },
    {
     "name": "stdout",
     "output_type": "stream",
     "text": [
      "[276 230 432 442]\n",
      "Confidence ---> 0.8\n"
     ]
    },
    {
     "name": "stderr",
     "output_type": "stream",
     "text": [
      "0: 480x640 1 face, 263.9ms\n",
      "Speed: 2.0ms preprocess, 263.9ms inference, 0.0ms postprocess per image at shape (1, 3, 480, 640)\n",
      "\n"
     ]
    },
    {
     "name": "stdout",
     "output_type": "stream",
     "text": [
      "[274 230 425 441]\n",
      "Confidence ---> 0.81\n"
     ]
    },
    {
     "name": "stderr",
     "output_type": "stream",
     "text": [
      "0: 480x640 1 face, 284.9ms\n",
      "Speed: 0.0ms preprocess, 284.9ms inference, 0.0ms postprocess per image at shape (1, 3, 480, 640)\n",
      "\n"
     ]
    },
    {
     "name": "stdout",
     "output_type": "stream",
     "text": [
      "[274 237 423 435]\n",
      "Confidence ---> 0.83\n"
     ]
    },
    {
     "name": "stderr",
     "output_type": "stream",
     "text": [
      "0: 480x640 1 face, 263.2ms\n",
      "Speed: 4.3ms preprocess, 263.2ms inference, 0.0ms postprocess per image at shape (1, 3, 480, 640)\n",
      "\n"
     ]
    },
    {
     "name": "stdout",
     "output_type": "stream",
     "text": [
      "[271 231 420 443]\n",
      "Confidence ---> 0.82\n"
     ]
    },
    {
     "name": "stderr",
     "output_type": "stream",
     "text": [
      "0: 480x640 1 face, 263.1ms\n",
      "Speed: 4.7ms preprocess, 263.1ms inference, 0.0ms postprocess per image at shape (1, 3, 480, 640)\n",
      "\n"
     ]
    },
    {
     "name": "stdout",
     "output_type": "stream",
     "text": [
      "[271 229 424 452]\n",
      "Confidence ---> 0.8\n"
     ]
    },
    {
     "name": "stderr",
     "output_type": "stream",
     "text": [
      "0: 480x640 1 face, 258.8ms\n",
      "Speed: 3.0ms preprocess, 258.8ms inference, 0.0ms postprocess per image at shape (1, 3, 480, 640)\n",
      "\n"
     ]
    },
    {
     "name": "stdout",
     "output_type": "stream",
     "text": [
      "[271 234 425 449]\n",
      "Confidence ---> 0.8\n"
     ]
    },
    {
     "name": "stderr",
     "output_type": "stream",
     "text": [
      "0: 480x640 1 face, 272.0ms\n",
      "Speed: 0.0ms preprocess, 272.0ms inference, 0.0ms postprocess per image at shape (1, 3, 480, 640)\n",
      "\n"
     ]
    },
    {
     "name": "stdout",
     "output_type": "stream",
     "text": [
      "[272 228 424 432]\n",
      "Confidence ---> 0.8\n"
     ]
    },
    {
     "name": "stderr",
     "output_type": "stream",
     "text": [
      "0: 480x640 1 face, 267.1ms\n",
      "Speed: 2.0ms preprocess, 267.1ms inference, 0.0ms postprocess per image at shape (1, 3, 480, 640)\n",
      "\n"
     ]
    },
    {
     "name": "stdout",
     "output_type": "stream",
     "text": [
      "[271 232 426 450]\n",
      "Confidence ---> 0.8\n"
     ]
    },
    {
     "name": "stderr",
     "output_type": "stream",
     "text": [
      "0: 480x640 1 face, 268.1ms\n",
      "Speed: 0.0ms preprocess, 268.1ms inference, 0.0ms postprocess per image at shape (1, 3, 480, 640)\n",
      "\n"
     ]
    },
    {
     "name": "stdout",
     "output_type": "stream",
     "text": [
      "[270 232 426 447]\n",
      "Confidence ---> 0.81\n"
     ]
    },
    {
     "name": "stderr",
     "output_type": "stream",
     "text": [
      "0: 480x640 1 face, 261.8ms\n",
      "Speed: 3.7ms preprocess, 261.8ms inference, 0.0ms postprocess per image at shape (1, 3, 480, 640)\n",
      "\n"
     ]
    },
    {
     "name": "stdout",
     "output_type": "stream",
     "text": [
      "[270 229 422 444]\n",
      "Confidence ---> 0.77\n"
     ]
    },
    {
     "name": "stderr",
     "output_type": "stream",
     "text": [
      "0: 480x640 1 face, 277.6ms\n",
      "Speed: 0.0ms preprocess, 277.6ms inference, 0.0ms postprocess per image at shape (1, 3, 480, 640)\n",
      "\n"
     ]
    },
    {
     "name": "stdout",
     "output_type": "stream",
     "text": [
      "[269 236 417 441]\n",
      "Confidence ---> 0.83\n"
     ]
    },
    {
     "name": "stderr",
     "output_type": "stream",
     "text": [
      "0: 480x640 1 face, 270.4ms\n",
      "Speed: 3.9ms preprocess, 270.4ms inference, 0.0ms postprocess per image at shape (1, 3, 480, 640)\n",
      "\n"
     ]
    },
    {
     "name": "stdout",
     "output_type": "stream",
     "text": [
      "[270 234 420 433]\n",
      "Confidence ---> 0.83\n"
     ]
    },
    {
     "name": "stderr",
     "output_type": "stream",
     "text": [
      "0: 480x640 1 face, 272.4ms\n",
      "Speed: 3.0ms preprocess, 272.4ms inference, 0.0ms postprocess per image at shape (1, 3, 480, 640)\n",
      "\n"
     ]
    },
    {
     "name": "stdout",
     "output_type": "stream",
     "text": [
      "[269 232 418 438]\n",
      "Confidence ---> 0.84\n"
     ]
    },
    {
     "name": "stderr",
     "output_type": "stream",
     "text": [
      "0: 480x640 1 face, 267.0ms\n",
      "Speed: 3.0ms preprocess, 267.0ms inference, 0.0ms postprocess per image at shape (1, 3, 480, 640)\n"
     ]
    },
    {
     "name": "stdout",
     "output_type": "stream",
     "text": [
      "[269 232 419 437]\n",
      "Confidence ---> 0.82\n"
     ]
    }
   ],
   "source": [
    "video = cv2.VideoCapture(0)\n",
    "\n",
    "width = int(video.get(cv2.CAP_PROP_FRAME_WIDTH))\n",
    "height = int(video.get(cv2.CAP_PROP_FRAME_HEIGHT))\n",
    "\n",
    "while True:\n",
    "    \n",
    "    ret, frame = video.read()\n",
    "    \n",
    "    frame = cv2.resize(frame,(width,height),interpolation = cv2.INTER_AREA)\n",
    "        \n",
    "    results = model.predict(frame, conf=0.7, stream = True,device = device)\n",
    "    \n",
    "    for result in results:\n",
    "        boxes = result.boxes.cpu().numpy()  \n",
    "        for box in boxes:\n",
    "            r = box.xyxy[0].astype(int)\n",
    "            print(r)\n",
    "            cv2.rectangle(frame, r[:2], r[2:], (0, 255, 0), 2)\n",
    "\n",
    "            confidence = math.ceil((box.conf[0]*100))/100\n",
    "            print(\"Confidence --->\",confidence)\n",
    "            font = cv2.FONT_HERSHEY_SIMPLEX\n",
    "  \n",
    "            # org\n",
    "            org = (r[0], r[1])\n",
    "            \n",
    "            # fontScale\n",
    "            fontScale = 1\n",
    "            \n",
    "            # Blue color in BGR\n",
    "            color = (255, 0, 255)\n",
    "            \n",
    "            # Line thickness of 2 px\n",
    "            thickness = 2\n",
    "            \n",
    "            # Using cv2.putText() method\n",
    "            frame = cv2.putText(frame, f\"{confidence}\", org, font,\n",
    "                                fontScale, color, thickness, cv2.LINE_AA)\n",
    "            \n",
    "            #cv2.putText(frame, confidence,[r[:1], r[1:2]], cv2.FONT_HERSHEY_SIMPLEX, (255,0,0), 2, cv2.LINE_AA)\n",
    "\n",
    "    cv2.imshow(\"input\", frame)\n",
    "\n",
    "    if cv2.waitKey(1) & 0xFF == ord('q'):\n",
    "        break\n",
    "        \n",
    "video.release()\n",
    "cv2.destroyAllWindows()        "
   ]
  },
  {
   "cell_type": "code",
   "execution_count": null,
   "id": "c8c342af-153a-48e8-89a5-0aa16e073109",
   "metadata": {},
   "outputs": [],
   "source": []
  }
 ],
 "metadata": {
  "kernelspec": {
   "display_name": "tf_gpu",
   "language": "python",
   "name": "tf_gpu"
  },
  "language_info": {
   "codemirror_mode": {
    "name": "ipython",
    "version": 3
   },
   "file_extension": ".py",
   "mimetype": "text/x-python",
   "name": "python",
   "nbconvert_exporter": "python",
   "pygments_lexer": "ipython3",
   "version": "3.9.2"
  }
 },
 "nbformat": 4,
 "nbformat_minor": 5
}
